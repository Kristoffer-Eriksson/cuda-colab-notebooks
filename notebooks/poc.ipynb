{
  "cells": [
    {
      "cell_type": "markdown",
      "metadata": {
        "colab_type": "text",
        "id": "view-in-github"
      },
      "source": [
        "<a href=\"https://colab.research.google.com/github/Kristoffer-Eriksson/cuda-colab-raytrace/blob/main/notebooks/poc.ipynb\" target=\"_parent\"><img src=\"https://colab.research.google.com/assets/colab-badge.svg\" alt=\"Open In Colab\"/></a>"
      ]
    },
    {
      "cell_type": "code",
      "execution_count": null,
      "metadata": {
        "colab": {
          "base_uri": "https://localhost:8080/"
        },
        "id": "5Vhz1PWoI4qX",
        "outputId": "dd54f476-6ded-40d7-a2e6-fd9c77ef60e3"
      },
      "outputs": [],
      "source": [
        "!rm -rf cuda-colab-notebooks\n",
        "!git clone --depth 1 https://github.com/Kristoffer-Eriksson/cuda-colab-notebooks.git\n"
      ]
    },
    {
      "cell_type": "code",
      "execution_count": null,
      "metadata": {
        "id": "3KkMkqvPI_0O"
      },
      "outputs": [],
      "source": [
        "!nvcc cuda-colab-notebooks/src/poc.cu -o poc\n"
      ]
    },
    {
      "cell_type": "code",
      "execution_count": null,
      "metadata": {
        "colab": {
          "base_uri": "https://localhost:8080/"
        },
        "id": "onSpNQMyJO14",
        "outputId": "ad128df9-f8aa-43c5-f4ef-18bcf90b69ab"
      },
      "outputs": [],
      "source": [
        "!./poc poc.png\n"
      ]
    },
    {
      "cell_type": "code",
      "execution_count": null,
      "metadata": {
        "id": "1IoGo_COJYHE"
      },
      "outputs": [],
      "source": [
        "from IPython.display import Image\n",
        "Image(filename='poc.png')\n"
      ]
    }
  ],
  "metadata": {
    "accelerator": "GPU",
    "colab": {
      "gpuType": "T4",
      "provenance": []
    },
    "kernelspec": {
      "display_name": "Python 3",
      "name": "python3"
    },
    "language_info": {
      "name": "python"
    }
  },
  "nbformat": 4,
  "nbformat_minor": 0
}
