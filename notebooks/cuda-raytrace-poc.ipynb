{
  "cells": [
    {
      "cell_type": "markdown",
      "metadata": {
        "colab_type": "text",
        "id": "view-in-github"
      },
      "source": [
        "<a href=\"https://colab.research.google.com/github/Kristoffer-Eriksson/cuda-raytrace/blob/main/notebooks/cuda-raytrace-poc.ipynb\" target=\"_parent\"><img src=\"https://colab.research.google.com/assets/colab-badge.svg\" alt=\"Open In Colab\"/></a>"
      ]
    },
    {
      "cell_type": "code",
      "execution_count": null,
      "metadata": {
        "colab": {
          "base_uri": "https://localhost:8080/"
        },
        "id": "5Vhz1PWoI4qX",
        "outputId": "dd54f476-6ded-40d7-a2e6-fd9c77ef60e3"
      },
      "outputs": [],
      "source": [
        "!rm -rf cuda-raytrace\n",
        "!git clone --depth 1 https://github.com/Kristoffer-Eriksson/cuda-raytrace.git\n"
      ]
    },
    {
      "cell_type": "code",
      "execution_count": null,
      "metadata": {
        "id": "3KkMkqvPI_0O"
      },
      "outputs": [],
      "source": [
        "!nvcc cuda-raytrace/src/poc.cu -lcurand -o poc\n"
      ]
    },
    {
      "cell_type": "code",
      "execution_count": null,
      "metadata": {
        "colab": {
          "base_uri": "https://localhost:8080/"
        },
        "id": "onSpNQMyJO14",
        "outputId": "ad128df9-f8aa-43c5-f4ef-18bcf90b69ab"
      },
      "outputs": [],
      "source": [
        "!./poc > poc.csv\n"
      ]
    },
    {
      "cell_type": "code",
      "execution_count": null,
      "metadata": {
        "id": "1IoGo_COJYHE"
      },
      "outputs": [],
      "source": [
        "import numpy as np\n",
        "import matplotlib.pyplot as plt\n"
      ]
    },
    {
      "cell_type": "code",
      "execution_count": null,
      "metadata": {
        "id": "mACEMdifJro6",
        "outputId": "3e657c11-ba68-40a2-e307-561bb2dfaa6d"
      },
      "outputs": [],
      "source": [
        "# Load your CSV file\n",
        "hex_data = np.genfromtxt('poc.csv', delimiter=',', dtype=str)\n",
        "\n",
        "# Convert hex strings to RGB values\n",
        "rgb_data = np.array([tuple(int(hex_val[i:i+2], 16) for i in (0, 2, 4)) for hex_val in hex_data])\n",
        "\n",
        "# Reshape the data into a 600x800x3 matrix\n",
        "matrix = rgb_data.reshape((600, 800, 3))\n",
        "\n",
        "# Plot the matrix as an image\n",
        "plt.imshow(matrix)\n",
        "plt.axis('off')  # Turn off axis labels for better visualization\n",
        "plt.show()\n"
      ]
    }
  ],
  "metadata": {
    "accelerator": "GPU",
    "colab": {
      "gpuType": "T4",
      "provenance": []
    },
    "kernelspec": {
      "display_name": "Python 3",
      "name": "python3"
    },
    "language_info": {
      "name": "python"
    }
  },
  "nbformat": 4,
  "nbformat_minor": 0
}
